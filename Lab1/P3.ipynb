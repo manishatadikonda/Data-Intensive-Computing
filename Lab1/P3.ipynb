{
 "cells": [
  {
   "cell_type": "code",
   "execution_count": 1,
   "metadata": {
    "collapsed": false
   },
   "outputs": [
    {
     "name": "stderr",
     "output_type": "stream",
     "text": [
      "Loading required package: ggplot2\n"
     ]
    },
    {
     "name": "stdout",
     "output_type": "stream",
     "text": [
      "[1] \"Using direct authentication\"\n"
     ]
    }
   ],
   "source": [
    "library(ggmap)\n",
    "library(twitteR)\n",
    "setup_twitter_oauth(\"6VOXGcI9RcZu6TgkZR8z7icLI\", \"L2txGKiWqSctX6H7zw5BjwRQumXs3NB1rKTHXsE6vbT9ok34V3\", \"1155945294-a4Ds2mz3a3JgA3Sh232GenlpU6Fd0ZJxWwuAIkF\", \"WVQBUB0HESaNelGyl2ymELlkUKHpOM0WnSLfjHki2s3ts\")"
   ]
  },
  {
   "cell_type": "code",
   "execution_count": 2,
   "metadata": {
    "collapsed": true
   },
   "outputs": [],
   "source": [
    "var <- \"buffalo\""
   ]
  },
  {
   "cell_type": "code",
   "execution_count": 6,
   "metadata": {
    "collapsed": false
   },
   "outputs": [
    {
     "name": "stderr",
     "output_type": "stream",
     "text": [
      "Information from URL : http://maps.googleapis.com/maps/api/geocode/json?address=buffalo&sensor=false\n"
     ]
    }
   ],
   "source": [
    "trend_city <- geocode(var)"
   ]
  },
  {
   "cell_type": "code",
   "execution_count": 9,
   "metadata": {
    "collapsed": false
   },
   "outputs": [
    {
     "data": {
      "text/html": [
       "<table>\n",
       "<thead><tr><th scope=col>lon</th><th scope=col>lat</th></tr></thead>\n",
       "<tbody>\n",
       "\t<tr><td>-78.87837</td><td>42.88645 </td></tr>\n",
       "</tbody>\n",
       "</table>\n"
      ],
      "text/latex": [
       "\\begin{tabular}{r|ll}\n",
       " lon & lat\\\\\n",
       "\\hline\n",
       "\t -78.87837 & 42.88645 \\\\\n",
       "\\end{tabular}\n"
      ],
      "text/markdown": [
       "\n",
       "lon | lat | \n",
       "|---|\n",
       "| -78.87837 | 42.88645  | \n",
       "\n",
       "\n"
      ],
      "text/plain": [
       "  lon       lat     \n",
       "1 -78.87837 42.88645"
      ]
     },
     "metadata": {},
     "output_type": "display_data"
    }
   ],
   "source": [
    "head(trend_city)"
   ]
  },
  {
   "cell_type": "code",
   "execution_count": 14,
   "metadata": {
    "collapsed": false
   },
   "outputs": [],
   "source": [
    "trends_closest <- closestTrendLocations(trend_city$lat, trend_city$lon)\n",
    "trends <- getTrends(trends_closest$woeid)"
   ]
  },
  {
   "cell_type": "code",
   "execution_count": 18,
   "metadata": {
    "collapsed": false,
    "scrolled": true
   },
   "outputs": [],
   "source": [
    "data <- head(trends$name, n =10)"
   ]
  },
  {
   "cell_type": "code",
   "execution_count": 21,
   "metadata": {
    "collapsed": false
   },
   "outputs": [
    {
     "data": {
      "text/html": [
       "'The top ten trends for the location buffalo: '"
      ],
      "text/latex": [
       "'The top ten trends for the location buffalo: '"
      ],
      "text/markdown": [
       "'The top ten trends for the location buffalo: '"
      ],
      "text/plain": [
       "[1] \"The top ten trends for the location buffalo: \""
      ]
     },
     "metadata": {},
     "output_type": "display_data"
    },
    {
     "data": {
      "text/html": [
       "<ol class=list-inline>\n",
       "\t<li>'#HTML500'</li>\n",
       "\t<li>'#FamilyDayWeekend'</li>\n",
       "\t<li>'#TEDxUofT'</li>\n",
       "\t<li>'#hockeydayincanada'</li>\n",
       "\t<li>'Mitch Marner'</li>\n",
       "\t<li>'#NationalDrinkWineDay'</li>\n",
       "\t<li>'Bill Maher'</li>\n",
       "\t<li>'Lotto Max'</li>\n",
       "\t<li>'Lincoln City'</li>\n",
       "\t<li>'Bill Gates'</li>\n",
       "</ol>\n"
      ],
      "text/latex": [
       "\\begin{enumerate*}\n",
       "\\item '\\#HTML500'\n",
       "\\item '\\#FamilyDayWeekend'\n",
       "\\item '\\#TEDxUofT'\n",
       "\\item '\\#hockeydayincanada'\n",
       "\\item 'Mitch Marner'\n",
       "\\item '\\#NationalDrinkWineDay'\n",
       "\\item 'Bill Maher'\n",
       "\\item 'Lotto Max'\n",
       "\\item 'Lincoln City'\n",
       "\\item 'Bill Gates'\n",
       "\\end{enumerate*}\n"
      ],
      "text/markdown": [
       "1. '#HTML500'\n",
       "2. '#FamilyDayWeekend'\n",
       "3. '#TEDxUofT'\n",
       "4. '#hockeydayincanada'\n",
       "5. 'Mitch Marner'\n",
       "6. '#NationalDrinkWineDay'\n",
       "7. 'Bill Maher'\n",
       "8. 'Lotto Max'\n",
       "9. 'Lincoln City'\n",
       "10. 'Bill Gates'\n",
       "\n",
       "\n"
      ],
      "text/plain": [
       " [1] \"#HTML500\"              \"#FamilyDayWeekend\"     \"#TEDxUofT\"            \n",
       " [4] \"#hockeydayincanada\"    \"Mitch Marner\"          \"#NationalDrinkWineDay\"\n",
       " [7] \"Bill Maher\"            \"Lotto Max\"             \"Lincoln City\"         \n",
       "[10] \"Bill Gates\"           "
      ]
     },
     "metadata": {},
     "output_type": "display_data"
    }
   ],
   "source": [
    "sprintf(\"The top ten trends for the location %s: \", var)\n",
    "data"
   ]
  },
  {
   "cell_type": "code",
   "execution_count": null,
   "metadata": {
    "collapsed": true
   },
   "outputs": [],
   "source": []
  }
 ],
 "metadata": {
  "anaconda-cloud": {},
  "kernelspec": {
   "display_name": "R",
   "language": "R",
   "name": "ir"
  },
  "language_info": {
   "codemirror_mode": "r",
   "file_extension": ".r",
   "mimetype": "text/x-r-source",
   "name": "R",
   "pygments_lexer": "r",
   "version": "3.3.2"
  }
 },
 "nbformat": 4,
 "nbformat_minor": 1
}
