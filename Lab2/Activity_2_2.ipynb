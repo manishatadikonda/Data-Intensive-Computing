{
 "cells": [
  {
   "cell_type": "code",
   "execution_count": 11,
   "metadata": {
    "collapsed": false
   },
   "outputs": [],
   "source": [
    "library(sqldf)\n",
    "player_data <- read.csv(\"player.csv\")"
   ]
  },
  {
   "cell_type": "code",
   "execution_count": 12,
   "metadata": {
    "collapsed": false
   },
   "outputs": [
    {
     "data": {
      "text/html": [
       "<table>\n",
       "<thead><tr><th scope=col>player_name</th></tr></thead>\n",
       "<tbody>\n",
       "\t<tr><td>Lionel Messi     </td></tr>\n",
       "\t<tr><td>Gianluigi Buffon </td></tr>\n",
       "\t<tr><td>Cristiano Ronaldo</td></tr>\n",
       "\t<tr><td>Wayne Rooney     </td></tr>\n",
       "\t<tr><td>Gregory Coupet   </td></tr>\n",
       "\t<tr><td>Xavi Hernandez   </td></tr>\n",
       "\t<tr><td>Iker Casillas    </td></tr>\n",
       "\t<tr><td>John Terry       </td></tr>\n",
       "\t<tr><td>Fabio Cannavaro  </td></tr>\n",
       "\t<tr><td>Alessandro Nesta </td></tr>\n",
       "</tbody>\n",
       "</table>\n"
      ],
      "text/latex": [
       "\\begin{tabular}{r|l}\n",
       " player\\_name\\\\\n",
       "\\hline\n",
       "\t Lionel Messi     \\\\\n",
       "\t Gianluigi Buffon \\\\\n",
       "\t Cristiano Ronaldo\\\\\n",
       "\t Wayne Rooney     \\\\\n",
       "\t Gregory Coupet   \\\\\n",
       "\t Xavi Hernandez   \\\\\n",
       "\t Iker Casillas    \\\\\n",
       "\t John Terry       \\\\\n",
       "\t Fabio Cannavaro  \\\\\n",
       "\t Alessandro Nesta \\\\\n",
       "\\end{tabular}\n"
      ],
      "text/markdown": [
       "\n",
       "player_name | \n",
       "|---|---|---|---|---|---|---|---|---|---|\n",
       "| Lionel Messi      | \n",
       "| Gianluigi Buffon  | \n",
       "| Cristiano Ronaldo | \n",
       "| Wayne Rooney      | \n",
       "| Gregory Coupet    | \n",
       "| Xavi Hernandez    | \n",
       "| Iker Casillas     | \n",
       "| John Terry        | \n",
       "| Fabio Cannavaro   | \n",
       "| Alessandro Nesta  | \n",
       "\n",
       "\n"
      ],
      "text/plain": [
       "   player_name      \n",
       "1  Lionel Messi     \n",
       "2  Gianluigi Buffon \n",
       "3  Cristiano Ronaldo\n",
       "4  Wayne Rooney     \n",
       "5  Gregory Coupet   \n",
       "6  Xavi Hernandez   \n",
       "7  Iker Casillas    \n",
       "8  John Terry       \n",
       "9  Fabio Cannavaro  \n",
       "10 Alessandro Nesta "
      ]
     },
     "metadata": {},
     "output_type": "display_data"
    }
   ],
   "source": [
    "sqldf(\"SELECT player_name from player_data ORDER BY overall_rating DESC LIMIT 10\")"
   ]
  },
  {
   "cell_type": "code",
   "execution_count": 13,
   "metadata": {
    "collapsed": false
   },
   "outputs": [
    {
     "data": {
      "text/html": [
       "<table>\n",
       "<thead><tr><th scope=col>player_name</th></tr></thead>\n",
       "<tbody>\n",
       "\t<tr><td>Gianluigi Buffon </td></tr>\n",
       "\t<tr><td>Gregory Coupet   </td></tr>\n",
       "\t<tr><td>Petr Cech        </td></tr>\n",
       "\t<tr><td>Iker Casillas    </td></tr>\n",
       "\t<tr><td>Manuel Neuer     </td></tr>\n",
       "\t<tr><td>Julio Cesar      </td></tr>\n",
       "\t<tr><td>Sebastian Frey   </td></tr>\n",
       "\t<tr><td>Edwin van der Sar</td></tr>\n",
       "\t<tr><td>David De Gea     </td></tr>\n",
       "\t<tr><td>Pepe Reina       </td></tr>\n",
       "</tbody>\n",
       "</table>\n"
      ],
      "text/latex": [
       "\\begin{tabular}{r|l}\n",
       " player\\_name\\\\\n",
       "\\hline\n",
       "\t Gianluigi Buffon \\\\\n",
       "\t Gregory Coupet   \\\\\n",
       "\t Petr Cech        \\\\\n",
       "\t Iker Casillas    \\\\\n",
       "\t Manuel Neuer     \\\\\n",
       "\t Julio Cesar      \\\\\n",
       "\t Sebastian Frey   \\\\\n",
       "\t Edwin van der Sar\\\\\n",
       "\t David De Gea     \\\\\n",
       "\t Pepe Reina       \\\\\n",
       "\\end{tabular}\n"
      ],
      "text/markdown": [
       "\n",
       "player_name | \n",
       "|---|---|---|---|---|---|---|---|---|---|\n",
       "| Gianluigi Buffon  | \n",
       "| Gregory Coupet    | \n",
       "| Petr Cech         | \n",
       "| Iker Casillas     | \n",
       "| Manuel Neuer      | \n",
       "| Julio Cesar       | \n",
       "| Sebastian Frey    | \n",
       "| Edwin van der Sar | \n",
       "| David De Gea      | \n",
       "| Pepe Reina        | \n",
       "\n",
       "\n"
      ],
      "text/plain": [
       "   player_name      \n",
       "1  Gianluigi Buffon \n",
       "2  Gregory Coupet   \n",
       "3  Petr Cech        \n",
       "4  Iker Casillas    \n",
       "5  Manuel Neuer     \n",
       "6  Julio Cesar      \n",
       "7  Sebastian Frey   \n",
       "8  Edwin van der Sar\n",
       "9  David De Gea     \n",
       "10 Pepe Reina       "
      ]
     },
     "metadata": {},
     "output_type": "display_data"
    }
   ],
   "source": [
    "sqldf(\"SELECT player_name from player_data ORDER BY gk_rating DESC LIMIT 10\")"
   ]
  },
  {
   "cell_type": "code",
   "execution_count": 14,
   "metadata": {
    "collapsed": false
   },
   "outputs": [
    {
     "data": {
      "text/html": [
       "<table>\n",
       "<thead><tr><th scope=col>player_name</th></tr></thead>\n",
       "<tbody>\n",
       "\t<tr><td>Steve Mandanda      </td></tr>\n",
       "\t<tr><td>Stephane Ruffier    </td></tr>\n",
       "\t<tr><td>Samir Handanovic    </td></tr>\n",
       "\t<tr><td>Gorka Iraizoz Moreno</td></tr>\n",
       "\t<tr><td>Tim Howard          </td></tr>\n",
       "\t<tr><td>Hugo Lloris         </td></tr>\n",
       "\t<tr><td>Joe Hart            </td></tr>\n",
       "\t<tr><td>Cedric Carrasso     </td></tr>\n",
       "\t<tr><td>Daniel Congre       </td></tr>\n",
       "\t<tr><td>Moussa Sissoko      </td></tr>\n",
       "</tbody>\n",
       "</table>\n"
      ],
      "text/latex": [
       "\\begin{tabular}{r|l}\n",
       " player\\_name\\\\\n",
       "\\hline\n",
       "\t Steve Mandanda      \\\\\n",
       "\t Stephane Ruffier    \\\\\n",
       "\t Samir Handanovic    \\\\\n",
       "\t Gorka Iraizoz Moreno\\\\\n",
       "\t Tim Howard          \\\\\n",
       "\t Hugo Lloris         \\\\\n",
       "\t Joe Hart            \\\\\n",
       "\t Cedric Carrasso     \\\\\n",
       "\t Daniel Congre       \\\\\n",
       "\t Moussa Sissoko      \\\\\n",
       "\\end{tabular}\n"
      ],
      "text/markdown": [
       "\n",
       "player_name | \n",
       "|---|---|---|---|---|---|---|---|---|---|\n",
       "| Steve Mandanda       | \n",
       "| Stephane Ruffier     | \n",
       "| Samir Handanovic     | \n",
       "| Gorka Iraizoz Moreno | \n",
       "| Tim Howard           | \n",
       "| Hugo Lloris          | \n",
       "| Joe Hart             | \n",
       "| Cedric Carrasso      | \n",
       "| Daniel Congre        | \n",
       "| Moussa Sissoko       | \n",
       "\n",
       "\n"
      ],
      "text/plain": [
       "   player_name         \n",
       "1  Steve Mandanda      \n",
       "2  Stephane Ruffier    \n",
       "3  Samir Handanovic    \n",
       "4  Gorka Iraizoz Moreno\n",
       "5  Tim Howard          \n",
       "6  Hugo Lloris         \n",
       "7  Joe Hart            \n",
       "8  Cedric Carrasso     \n",
       "9  Daniel Congre       \n",
       "10 Moussa Sissoko      "
      ]
     },
     "metadata": {},
     "output_type": "display_data"
    }
   ],
   "source": [
    "sqldf(\"SELECT player_name from player_data ORDER BY appearances DESC LIMIT 10\")"
   ]
  },
  {
   "cell_type": "code",
   "execution_count": 15,
   "metadata": {
    "collapsed": false
   },
   "outputs": [
    {
     "data": {
      "text/html": [
       "<table>\n",
       "<thead><tr><th scope=col>player_name</th></tr></thead>\n",
       "<tbody>\n",
       "\t<tr><td>Gelson Fernandes     </td></tr>\n",
       "\t<tr><td>Filip Djuricic       </td></tr>\n",
       "\t<tr><td>Ricky van Wolfswinkel</td></tr>\n",
       "\t<tr><td>Maarten Stekelenburg </td></tr>\n",
       "\t<tr><td>Sergio Romero        </td></tr>\n",
       "\t<tr><td>Oguchi Onyewu        </td></tr>\n",
       "\t<tr><td>Sebastien Pocognoli  </td></tr>\n",
       "\t<tr><td>Aly Cissokho         </td></tr>\n",
       "\t<tr><td>Rolando              </td></tr>\n",
       "\t<tr><td>Xherdan Shaqiri      </td></tr>\n",
       "</tbody>\n",
       "</table>\n"
      ],
      "text/latex": [
       "\\begin{tabular}{r|l}\n",
       " player\\_name\\\\\n",
       "\\hline\n",
       "\t Gelson Fernandes     \\\\\n",
       "\t Filip Djuricic       \\\\\n",
       "\t Ricky van Wolfswinkel\\\\\n",
       "\t Maarten Stekelenburg \\\\\n",
       "\t Sergio Romero        \\\\\n",
       "\t Oguchi Onyewu        \\\\\n",
       "\t Sebastien Pocognoli  \\\\\n",
       "\t Aly Cissokho         \\\\\n",
       "\t Rolando              \\\\\n",
       "\t Xherdan Shaqiri      \\\\\n",
       "\\end{tabular}\n"
      ],
      "text/markdown": [
       "\n",
       "player_name | \n",
       "|---|---|---|---|---|---|---|---|---|---|\n",
       "| Gelson Fernandes      | \n",
       "| Filip Djuricic        | \n",
       "| Ricky van Wolfswinkel | \n",
       "| Maarten Stekelenburg  | \n",
       "| Sergio Romero         | \n",
       "| Oguchi Onyewu         | \n",
       "| Sebastien Pocognoli   | \n",
       "| Aly Cissokho          | \n",
       "| Rolando               | \n",
       "| Xherdan Shaqiri       | \n",
       "\n",
       "\n"
      ],
      "text/plain": [
       "   player_name          \n",
       "1  Gelson Fernandes     \n",
       "2  Filip Djuricic       \n",
       "3  Ricky van Wolfswinkel\n",
       "4  Maarten Stekelenburg \n",
       "5  Sergio Romero        \n",
       "6  Oguchi Onyewu        \n",
       "7  Sebastien Pocognoli  \n",
       "8  Aly Cissokho         \n",
       "9  Rolando              \n",
       "10 Xherdan Shaqiri      "
      ]
     },
     "metadata": {},
     "output_type": "display_data"
    }
   ],
   "source": [
    "sqldf(\"SELECT player_name from player_data ORDER BY num_leagues DESC LIMIT 10\")"
   ]
  },
  {
   "cell_type": "code",
   "execution_count": 16,
   "metadata": {
    "collapsed": true
   },
   "outputs": [],
   "source": [
    "team_data <- read.csv(\"team.csv\")"
   ]
  },
  {
   "cell_type": "code",
   "execution_count": 22,
   "metadata": {
    "collapsed": false
   },
   "outputs": [
    {
     "data": {
      "text/html": [
       "<table>\n",
       "<thead><tr><th scope=col>team_long_name</th></tr></thead>\n",
       "<tbody>\n",
       "\t<tr><td>Torino                    </td></tr>\n",
       "\t<tr><td>Udinese                   </td></tr>\n",
       "\t<tr><td>Fortuna Düsseldorf        </td></tr>\n",
       "\t<tr><td>Podbeskidzie Bielsko-Biala</td></tr>\n",
       "\t<tr><td>Korona Kielce             </td></tr>\n",
       "\t<tr><td>Carpi                     </td></tr>\n",
       "\t<tr><td>Widzew Lódz               </td></tr>\n",
       "\t<tr><td>Widzew Lódz               </td></tr>\n",
       "\t<tr><td>FC Nantes                 </td></tr>\n",
       "\t<tr><td>Lazio                     </td></tr>\n",
       "</tbody>\n",
       "</table>\n"
      ],
      "text/latex": [
       "\\begin{tabular}{r|l}\n",
       " team\\_long\\_name\\\\\n",
       "\\hline\n",
       "\t Torino                    \\\\\n",
       "\t Udinese                   \\\\\n",
       "\t Fortuna Düsseldorf        \\\\\n",
       "\t Podbeskidzie Bielsko-Biala\\\\\n",
       "\t Korona Kielce             \\\\\n",
       "\t Carpi                     \\\\\n",
       "\t Widzew Lódz               \\\\\n",
       "\t Widzew Lódz               \\\\\n",
       "\t FC Nantes                 \\\\\n",
       "\t Lazio                     \\\\\n",
       "\\end{tabular}\n"
      ],
      "text/markdown": [
       "\n",
       "team_long_name | \n",
       "|---|---|---|---|---|---|---|---|---|---|\n",
       "| Torino                     | \n",
       "| Udinese                    | \n",
       "| Fortuna Düsseldorf         | \n",
       "| Podbeskidzie Bielsko-Biala | \n",
       "| Korona Kielce              | \n",
       "| Carpi                      | \n",
       "| Widzew Lódz                | \n",
       "| Widzew Lódz                | \n",
       "| FC Nantes                  | \n",
       "| Lazio                      | \n",
       "\n",
       "\n"
      ],
      "text/plain": [
       "   team_long_name            \n",
       "1  Torino                    \n",
       "2  Udinese                   \n",
       "3  Fortuna Düsseldorf        \n",
       "4  Podbeskidzie Bielsko-Biala\n",
       "5  Korona Kielce             \n",
       "6  Carpi                     \n",
       "7  Widzew Lódz               \n",
       "8  Widzew Lódz               \n",
       "9  FC Nantes                 \n",
       "10 Lazio                     "
      ]
     },
     "metadata": {},
     "output_type": "display_data"
    }
   ],
   "source": [
    "sqldf(\"SELECT team_long_name from team_data ORDER BY build_up_play DESC LIMIT 10\")"
   ]
  },
  {
   "cell_type": "code",
   "execution_count": 23,
   "metadata": {
    "collapsed": false
   },
   "outputs": [
    {
     "data": {
      "text/html": [
       "<table>\n",
       "<thead><tr><th scope=col>team_long_name</th></tr></thead>\n",
       "<tbody>\n",
       "\t<tr><td>Lazio                  </td></tr>\n",
       "\t<tr><td>SV Werder Bremen       </td></tr>\n",
       "\t<tr><td>Napoli                 </td></tr>\n",
       "\t<tr><td>Manchester City        </td></tr>\n",
       "\t<tr><td>Tottenham Hotspur      </td></tr>\n",
       "\t<tr><td>Birmingham City        </td></tr>\n",
       "\t<tr><td>Wolverhampton Wanderers</td></tr>\n",
       "\t<tr><td>Burnley                </td></tr>\n",
       "\t<tr><td>Swansea City           </td></tr>\n",
       "\t<tr><td>Queens Park Rangers    </td></tr>\n",
       "</tbody>\n",
       "</table>\n"
      ],
      "text/latex": [
       "\\begin{tabular}{r|l}\n",
       " team\\_long\\_name\\\\\n",
       "\\hline\n",
       "\t Lazio                  \\\\\n",
       "\t SV Werder Bremen       \\\\\n",
       "\t Napoli                 \\\\\n",
       "\t Manchester City        \\\\\n",
       "\t Tottenham Hotspur      \\\\\n",
       "\t Birmingham City        \\\\\n",
       "\t Wolverhampton Wanderers\\\\\n",
       "\t Burnley                \\\\\n",
       "\t Swansea City           \\\\\n",
       "\t Queens Park Rangers    \\\\\n",
       "\\end{tabular}\n"
      ],
      "text/markdown": [
       "\n",
       "team_long_name | \n",
       "|---|---|---|---|---|---|---|---|---|---|\n",
       "| Lazio                   | \n",
       "| SV Werder Bremen        | \n",
       "| Napoli                  | \n",
       "| Manchester City         | \n",
       "| Tottenham Hotspur       | \n",
       "| Birmingham City         | \n",
       "| Wolverhampton Wanderers | \n",
       "| Burnley                 | \n",
       "| Swansea City            | \n",
       "| Queens Park Rangers     | \n",
       "\n",
       "\n"
      ],
      "text/plain": [
       "   team_long_name         \n",
       "1  Lazio                  \n",
       "2  SV Werder Bremen       \n",
       "3  Napoli                 \n",
       "4  Manchester City        \n",
       "5  Tottenham Hotspur      \n",
       "6  Birmingham City        \n",
       "7  Wolverhampton Wanderers\n",
       "8  Burnley                \n",
       "9  Swansea City           \n",
       "10 Queens Park Rangers    "
      ]
     },
     "metadata": {},
     "output_type": "display_data"
    }
   ],
   "source": [
    "sqldf(\"SELECT team_long_name from team_data ORDER BY chance_creation DESC LIMIT 10\")"
   ]
  },
  {
   "cell_type": "code",
   "execution_count": 24,
   "metadata": {
    "collapsed": false
   },
   "outputs": [
    {
     "data": {
      "text/html": [
       "<table>\n",
       "<thead><tr><th scope=col>team_long_name</th></tr></thead>\n",
       "<tbody>\n",
       "\t<tr><td>Beerschot AC           </td></tr>\n",
       "\t<tr><td>KVC Westerlo           </td></tr>\n",
       "\t<tr><td>Sporting Charleroi     </td></tr>\n",
       "\t<tr><td>West Bromwich Albion   </td></tr>\n",
       "\t<tr><td>Hull City              </td></tr>\n",
       "\t<tr><td>Birmingham City        </td></tr>\n",
       "\t<tr><td>Wolverhampton Wanderers</td></tr>\n",
       "\t<tr><td>Blackpool              </td></tr>\n",
       "\t<tr><td>Swansea City           </td></tr>\n",
       "\t<tr><td>Queens Park Rangers    </td></tr>\n",
       "</tbody>\n",
       "</table>\n"
      ],
      "text/latex": [
       "\\begin{tabular}{r|l}\n",
       " team\\_long\\_name\\\\\n",
       "\\hline\n",
       "\t Beerschot AC           \\\\\n",
       "\t KVC Westerlo           \\\\\n",
       "\t Sporting Charleroi     \\\\\n",
       "\t West Bromwich Albion   \\\\\n",
       "\t Hull City              \\\\\n",
       "\t Birmingham City        \\\\\n",
       "\t Wolverhampton Wanderers\\\\\n",
       "\t Blackpool              \\\\\n",
       "\t Swansea City           \\\\\n",
       "\t Queens Park Rangers    \\\\\n",
       "\\end{tabular}\n"
      ],
      "text/markdown": [
       "\n",
       "team_long_name | \n",
       "|---|---|---|---|---|---|---|---|---|---|\n",
       "| Beerschot AC            | \n",
       "| KVC Westerlo            | \n",
       "| Sporting Charleroi      | \n",
       "| West Bromwich Albion    | \n",
       "| Hull City               | \n",
       "| Birmingham City         | \n",
       "| Wolverhampton Wanderers | \n",
       "| Blackpool               | \n",
       "| Swansea City            | \n",
       "| Queens Park Rangers     | \n",
       "\n",
       "\n"
      ],
      "text/plain": [
       "   team_long_name         \n",
       "1  Beerschot AC           \n",
       "2  KVC Westerlo           \n",
       "3  Sporting Charleroi     \n",
       "4  West Bromwich Albion   \n",
       "5  Hull City              \n",
       "6  Birmingham City        \n",
       "7  Wolverhampton Wanderers\n",
       "8  Blackpool              \n",
       "9  Swansea City           \n",
       "10 Queens Park Rangers    "
      ]
     },
     "metadata": {},
     "output_type": "display_data"
    }
   ],
   "source": [
    "sqldf(\"SELECT team_long_name from team_data ORDER BY defence DESC LIMIT 10\")"
   ]
  },
  {
   "cell_type": "code",
   "execution_count": 25,
   "metadata": {
    "collapsed": false
   },
   "outputs": [
    {
     "data": {
      "text/html": [
       "<table>\n",
       "<thead><tr><th scope=col>team_long_name</th></tr></thead>\n",
       "<tbody>\n",
       "\t<tr><td>FC Barcelona     </td></tr>\n",
       "\t<tr><td>Real Madrid CF   </td></tr>\n",
       "\t<tr><td>Celtic           </td></tr>\n",
       "\t<tr><td>FC Bayern Munich </td></tr>\n",
       "\t<tr><td>PSV              </td></tr>\n",
       "\t<tr><td>Ajax             </td></tr>\n",
       "\t<tr><td>FC Basel         </td></tr>\n",
       "\t<tr><td>Manchester City  </td></tr>\n",
       "\t<tr><td>Chelsea          </td></tr>\n",
       "\t<tr><td>Manchester United</td></tr>\n",
       "</tbody>\n",
       "</table>\n"
      ],
      "text/latex": [
       "\\begin{tabular}{r|l}\n",
       " team\\_long\\_name\\\\\n",
       "\\hline\n",
       "\t FC Barcelona     \\\\\n",
       "\t Real Madrid CF   \\\\\n",
       "\t Celtic           \\\\\n",
       "\t FC Bayern Munich \\\\\n",
       "\t PSV              \\\\\n",
       "\t Ajax             \\\\\n",
       "\t FC Basel         \\\\\n",
       "\t Manchester City  \\\\\n",
       "\t Chelsea          \\\\\n",
       "\t Manchester United\\\\\n",
       "\\end{tabular}\n"
      ],
      "text/markdown": [
       "\n",
       "team_long_name | \n",
       "|---|---|---|---|---|---|---|---|---|---|\n",
       "| FC Barcelona      | \n",
       "| Real Madrid CF    | \n",
       "| Celtic            | \n",
       "| FC Bayern Munich  | \n",
       "| PSV               | \n",
       "| Ajax              | \n",
       "| FC Basel          | \n",
       "| Manchester City   | \n",
       "| Chelsea           | \n",
       "| Manchester United | \n",
       "\n",
       "\n"
      ],
      "text/plain": [
       "   team_long_name   \n",
       "1  FC Barcelona     \n",
       "2  Real Madrid CF   \n",
       "3  Celtic           \n",
       "4  FC Bayern Munich \n",
       "5  PSV              \n",
       "6  Ajax             \n",
       "7  FC Basel         \n",
       "8  Manchester City  \n",
       "9  Chelsea          \n",
       "10 Manchester United"
      ]
     },
     "metadata": {},
     "output_type": "display_data"
    }
   ],
   "source": [
    "sqldf(\"SELECT team_long_name from team_data ORDER BY scored_goals DESC LIMIT 10\")"
   ]
  },
  {
   "cell_type": "code",
   "execution_count": null,
   "metadata": {
    "collapsed": true
   },
   "outputs": [],
   "source": []
  },
  {
   "cell_type": "code",
   "execution_count": null,
   "metadata": {
    "collapsed": true
   },
   "outputs": [],
   "source": []
  }
 ],
 "metadata": {
  "kernelspec": {
   "display_name": "R",
   "language": "R",
   "name": "ir"
  },
  "language_info": {
   "codemirror_mode": "r",
   "file_extension": ".r",
   "mimetype": "text/x-r-source",
   "name": "R",
   "pygments_lexer": "r",
   "version": "3.3.2"
  }
 },
 "nbformat": 4,
 "nbformat_minor": 1
}
