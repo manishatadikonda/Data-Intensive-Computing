{
 "cells": [
  {
   "cell_type": "code",
   "execution_count": 4,
   "metadata": {
    "collapsed": false
   },
   "outputs": [],
   "source": [
    "pew_data <- read.csv(\"Rgraphics/June 10-July 12, 2015 - Gaming, Jobs and Broadband - CSV.csv\")"
   ]
  },
  {
   "cell_type": "code",
   "execution_count": null,
   "metadata": {
    "collapsed": false
   },
   "outputs": [],
   "source": [
    "summary(pew_data)"
   ]
  },
  {
   "cell_type": "markdown",
   "metadata": {},
   "source": [
    "## I am considering the following columns as parameters for my kmeans clustering\n",
    "### sex\n",
    "### age\n",
    "### income\n",
    "### state\n",
    "### race\n",
    "### internet users\n",
    "## log transformation to handle outliers\n",
    "### out of the columns i'm using for my kmeans, the possible outliers could be presen in age, income, state and race. \n",
    "### sex would contain only male or female and hence it wouldn't contain any outliers but we'll still apply log for generalisation\n",
    "### since all the options have values more than 1, we don't have to worry about applying log to the columns as whole\n",
    "### also since all the columns we have chosen have numerical data with values not more than 100, we dont have to worry about applying log since it wouldn't cause give us wide range\n"
   ]
  },
  {
   "cell_type": "code",
   "execution_count": null,
   "metadata": {
    "collapsed": false
   },
   "outputs": [],
   "source": [
    "age <- log(pew_data$age)\n",
    "income <- log(pew_data$inc)\n",
    "state <- log(pew_data$state)\n",
    "race <- log(pew_data$race)\n",
    "sex <- log(pew_data$sex)\n",
    "internet_users <- log(pew_data$eminuse)"
   ]
  },
  {
   "cell_type": "code",
   "execution_count": null,
   "metadata": {
    "collapsed": true
   },
   "outputs": [],
   "source": [
    "kmeans_df <- data.frame(age, income, state, race, sex, internet_users)"
   ]
  },
  {
   "cell_type": "markdown",
   "metadata": {},
   "source": [
    "## normalizing all the variables I am considering so that the data in the variable fall in the preferred range(0 to 1 in this case) to avoid the possibility of one feature getting shadowed by the other feature with higher value."
   ]
  },
  {
   "cell_type": "code",
   "execution_count": null,
   "metadata": {
    "collapsed": false
   },
   "outputs": [],
   "source": [
    "kmeans_df$age <- (kmeans_df$age-min(kmeans_df$age))/(max(kmeans_df$age)-min(kmeans_df$age))\n",
    "kmeans_df$income <- (kmeans_df$income - min(kmeans_df$income))/(max(kmeans_df$income)-min(kmeans_df$income))\n",
    "kmeans_df$state <- (kmeans_df$state - min(kmeans_df$state))/(max(kmeans_df$state) - min(kmeans_df$state))\n",
    "kmeans_df$sex <- (kmeans_df$sex - min(kmeans_df$sex))/(max(kmeans_df$sex) - min(kmeans_df$sex))\n",
    "kmeans_df$internet_users <- (kmeans_df$internet_users - min(kmeans_df$internet_users))/(max(kmeans_df$internet_users) - min(kmeans_df$internet_users))"
   ]
  },
  {
   "cell_type": "code",
   "execution_count": null,
   "metadata": {
    "collapsed": false
   },
   "outputs": [],
   "source": [
    "kmeans_df"
   ]
  },
  {
   "cell_type": "code",
   "execution_count": null,
   "metadata": {
    "collapsed": false
   },
   "outputs": [],
   "source": [
    "#  for k = 3\n",
    "\n",
    "k1 <-kmeans(kmeans_df, centers=3) \n",
    "k1$centers"
   ]
  },
  {
   "cell_type": "code",
   "execution_count": null,
   "metadata": {
    "collapsed": false
   },
   "outputs": [],
   "source": [
    "table(k1$cluster)"
   ]
  },
  {
   "cell_type": "code",
   "execution_count": null,
   "metadata": {
    "collapsed": false
   },
   "outputs": [],
   "source": [
    "k1$withinss"
   ]
  },
  {
   "cell_type": "code",
   "execution_count": null,
   "metadata": {
    "collapsed": false
   },
   "outputs": [],
   "source": [
    "k1$betweenss"
   ]
  },
  {
   "cell_type": "markdown",
   "metadata": {},
   "source": [
    "### we can say that for k =3, cluster 1,2 and  cluster 3 are mainly concentrated around age, income, state while cluster 1 contains maximum values of race. cluster 3 has large value of sex(which is 1) meaning it's only focused on male population. Also the distance between the clusters is big which is good. The other values are fairly distributed across all the clusters.\n",
    "### The sum of distances between the data points in each cluster is less which is good."
   ]
  },
  {
   "cell_type": "code",
   "execution_count": null,
   "metadata": {
    "collapsed": false,
    "scrolled": true
   },
   "outputs": [],
   "source": [
    "#  for k = 5\n",
    "k2 <-kmeans(kmeans_df, centers=5) \n",
    "k2$centers"
   ]
  },
  {
   "cell_type": "code",
   "execution_count": null,
   "metadata": {
    "collapsed": false
   },
   "outputs": [],
   "source": [
    "table(k2$cluster)"
   ]
  },
  {
   "cell_type": "code",
   "execution_count": null,
   "metadata": {
    "collapsed": false
   },
   "outputs": [],
   "source": [
    "k2$withinss"
   ]
  },
  {
   "cell_type": "code",
   "execution_count": null,
   "metadata": {
    "collapsed": false
   },
   "outputs": [],
   "source": [
    "k2$betweenss"
   ]
  },
  {
   "cell_type": "markdown",
   "metadata": {},
   "source": [
    "### we can say that for k =5, cluster 1 is mainly concentrated around sex(value 1 which is male) while cluster 2 contains maximum value of income and sex as 0(female). cluster 3 has maximum value of sex. Cluster 4 has maximum income value and sex value while Cluster 5 has low age and income values, high race value and decent values for all the other variables variables. Also the distance between the clusters is big which is good. \n",
    "\n",
    "### The sum of distances between the data points in all the clusters is quite less like the observation in k = 3. But the values are quite lesser when compared to the values with k=3. So the datapoints came closer for k=5."
   ]
  }
 ],
 "metadata": {
  "anaconda-cloud": {},
  "kernelspec": {
   "display_name": "R",
   "language": "R",
   "name": "ir"
  },
  "language_info": {
   "codemirror_mode": "r",
   "file_extension": ".r",
   "mimetype": "text/x-r-source",
   "name": "R",
   "pygments_lexer": "r",
   "version": "3.3.2"
  }
 },
 "nbformat": 4,
 "nbformat_minor": 1
}
