{
 "cells": [
  {
   "cell_type": "code",
   "execution_count": 1,
   "metadata": {
    "collapsed": false
   },
   "outputs": [
    {
     "name": "stderr",
     "output_type": "stream",
     "text": [
      "Installing package into 'C:/Users/Akash Yeleswarapu/Documents/R/win-library/3.3'\n",
      "(as 'lib' is unspecified)\n"
     ]
    },
    {
     "name": "stdout",
     "output_type": "stream",
     "text": [
      "package 'readxl' successfully unpacked and MD5 sums checked\n"
     ]
    },
    {
     "name": "stderr",
     "output_type": "stream",
     "text": [
      "Warning message:\n",
      "\"cannot remove prior installation of package 'readxl'\""
     ]
    },
    {
     "name": "stdout",
     "output_type": "stream",
     "text": [
      "\n",
      "The downloaded binary packages are in\n",
      "\tC:\\Users\\Akash Yeleswarapu\\AppData\\Local\\Temp\\RtmpUbcxrl\\downloaded_packages\n"
     ]
    }
   ],
   "source": [
    "install.packages(\"readxl\", repos='http://cran.us.r-project.org') \n",
    "library(readxl)\n",
    "\n",
    "nhl_data <-read_excel(\"Rgraphics/lab3Data/NHLTop100.xlsx\")"
   ]
  },
  {
   "cell_type": "code",
   "execution_count": 2,
   "metadata": {
    "collapsed": false
   },
   "outputs": [
    {
     "data": {
      "text/html": [
       "<table>\n",
       "<thead><tr><th scope=col>Rank</th><th scope=col>Player</th><th scope=col>Team</th><th scope=col>Pos</th><th scope=col>1st NHL Season</th><th scope=col>Last NHL Season</th><th scope=col>GP</th><th scope=col>G</th><th scope=col>A</th><th scope=col>P</th><th scope=col>+/-</th><th scope=col>PIM</th><th scope=col>PP</th><th scope=col>SH</th><th scope=col>GW</th><th scope=col>GT</th><th scope=col>OT</th><th scope=col>Shots</th></tr></thead>\n",
       "<tbody>\n",
       "\t<tr><td>1            </td><td>Wayne Gretzky</td><td>NA           </td><td>C            </td><td>1979-1980    </td><td>1998-1999    </td><td>1487         </td><td>894          </td><td>1963         </td><td>2857         </td><td>518          </td><td> 577         </td><td>204          </td><td>73           </td><td>91           </td><td>12           </td><td> 1           </td><td>5089         </td></tr>\n",
       "\t<tr><td>2            </td><td>Mark Messier </td><td>NA           </td><td>C            </td><td>1979-1980    </td><td>2003-2004    </td><td>1756         </td><td>694          </td><td>1193         </td><td>1887         </td><td>210          </td><td>1910         </td><td>179          </td><td>63           </td><td>92           </td><td>15           </td><td> 7           </td><td>4219         </td></tr>\n",
       "\t<tr><td>3            </td><td>Gordie Howe  </td><td>NA           </td><td>R            </td><td>1946-1947    </td><td>1979-1980    </td><td>1767         </td><td>801          </td><td>1049         </td><td>1850         </td><td> 87          </td><td>1685         </td><td> 39          </td><td> 5           </td><td>18           </td><td>NA           </td><td>NA           </td><td>  NA         </td></tr>\n",
       "\t<tr><td>4            </td><td>Ron Francis  </td><td>NA           </td><td>C            </td><td>1981-1982    </td><td>2003-2004    </td><td>1731         </td><td>549          </td><td>1249         </td><td>1798         </td><td>-10          </td><td> 979         </td><td>188          </td><td>12           </td><td>79           </td><td>13           </td><td> 3           </td><td>3754         </td></tr>\n",
       "\t<tr><td>5            </td><td>Marcel Dionne</td><td>NA           </td><td>C            </td><td>1971-1972    </td><td>1988-1989    </td><td>1348         </td><td>731          </td><td>1040         </td><td>1771         </td><td> 28          </td><td> 600         </td><td>234          </td><td>19           </td><td>74           </td><td> 1           </td><td> 2           </td><td>5366         </td></tr>\n",
       "\t<tr><td>6            </td><td>Steve Yzerman</td><td>NA           </td><td>C            </td><td>1983-1984    </td><td>2005-2006    </td><td>1514         </td><td>692          </td><td>1063         </td><td>1755         </td><td>202          </td><td> 924         </td><td>202          </td><td>50           </td><td>94           </td><td>12           </td><td> 8           </td><td>4602         </td></tr>\n",
       "</tbody>\n",
       "</table>\n"
      ],
      "text/latex": [
       "\\begin{tabular}{r|llllllllllllllllll}\n",
       " Rank & Player & Team & Pos & 1st NHL Season & Last NHL Season & GP & G & A & P & +/- & PIM & PP & SH & GW & GT & OT & Shots\\\\\n",
       "\\hline\n",
       "\t 1             & Wayne Gretzky & NA            & C             & 1979-1980     & 1998-1999     & 1487          & 894           & 1963          & 2857          & 518           &  577          & 204           & 73            & 91            & 12            &  1            & 5089         \\\\\n",
       "\t 2             & Mark Messier  & NA            & C             & 1979-1980     & 2003-2004     & 1756          & 694           & 1193          & 1887          & 210           & 1910          & 179           & 63            & 92            & 15            &  7            & 4219         \\\\\n",
       "\t 3             & Gordie Howe   & NA            & R             & 1946-1947     & 1979-1980     & 1767          & 801           & 1049          & 1850          &  87           & 1685          &  39           &  5            & 18            & NA            & NA            &   NA         \\\\\n",
       "\t 4             & Ron Francis   & NA            & C             & 1981-1982     & 2003-2004     & 1731          & 549           & 1249          & 1798          & -10           &  979          & 188           & 12            & 79            & 13            &  3            & 3754         \\\\\n",
       "\t 5             & Marcel Dionne & NA            & C             & 1971-1972     & 1988-1989     & 1348          & 731           & 1040          & 1771          &  28           &  600          & 234           & 19            & 74            &  1            &  2            & 5366         \\\\\n",
       "\t 6             & Steve Yzerman & NA            & C             & 1983-1984     & 2005-2006     & 1514          & 692           & 1063          & 1755          & 202           &  924          & 202           & 50            & 94            & 12            &  8            & 4602         \\\\\n",
       "\\end{tabular}\n"
      ],
      "text/markdown": [
       "\n",
       "Rank | Player | Team | Pos | 1st NHL Season | Last NHL Season | GP | G | A | P | +/- | PIM | PP | SH | GW | GT | OT | Shots | \n",
       "|---|---|---|---|---|---|\n",
       "| 1             | Wayne Gretzky | NA            | C             | 1979-1980     | 1998-1999     | 1487          | 894           | 1963          | 2857          | 518           |  577          | 204           | 73            | 91            | 12            |  1            | 5089          | \n",
       "| 2             | Mark Messier  | NA            | C             | 1979-1980     | 2003-2004     | 1756          | 694           | 1193          | 1887          | 210           | 1910          | 179           | 63            | 92            | 15            |  7            | 4219          | \n",
       "| 3             | Gordie Howe   | NA            | R             | 1946-1947     | 1979-1980     | 1767          | 801           | 1049          | 1850          |  87           | 1685          |  39           |  5            | 18            | NA            | NA            |   NA          | \n",
       "| 4             | Ron Francis   | NA            | C             | 1981-1982     | 2003-2004     | 1731          | 549           | 1249          | 1798          | -10           |  979          | 188           | 12            | 79            | 13            |  3            | 3754          | \n",
       "| 5             | Marcel Dionne | NA            | C             | 1971-1972     | 1988-1989     | 1348          | 731           | 1040          | 1771          |  28           |  600          | 234           | 19            | 74            |  1            |  2            | 5366          | \n",
       "| 6             | Steve Yzerman | NA            | C             | 1983-1984     | 2005-2006     | 1514          | 692           | 1063          | 1755          | 202           |  924          | 202           | 50            | 94            | 12            |  8            | 4602          | \n",
       "\n",
       "\n"
      ],
      "text/plain": [
       "  Rank Player        Team Pos 1st NHL Season Last NHL Season GP   G   A    P   \n",
       "1 1    Wayne Gretzky NA   C   1979-1980      1998-1999       1487 894 1963 2857\n",
       "2 2    Mark Messier  NA   C   1979-1980      2003-2004       1756 694 1193 1887\n",
       "3 3    Gordie Howe   NA   R   1946-1947      1979-1980       1767 801 1049 1850\n",
       "4 4    Ron Francis   NA   C   1981-1982      2003-2004       1731 549 1249 1798\n",
       "5 5    Marcel Dionne NA   C   1971-1972      1988-1989       1348 731 1040 1771\n",
       "6 6    Steve Yzerman NA   C   1983-1984      2005-2006       1514 692 1063 1755\n",
       "  +/- PIM  PP  SH GW GT OT Shots\n",
       "1 518  577 204 73 91 12  1 5089 \n",
       "2 210 1910 179 63 92 15  7 4219 \n",
       "3  87 1685  39  5 18 NA NA   NA \n",
       "4 -10  979 188 12 79 13  3 3754 \n",
       "5  28  600 234 19 74  1  2 5366 \n",
       "6 202  924 202 50 94 12  8 4602 "
      ]
     },
     "metadata": {},
     "output_type": "display_data"
    }
   ],
   "source": [
    "head(nhl_data)"
   ]
  },
  {
   "cell_type": "code",
   "execution_count": 3,
   "metadata": {
    "collapsed": false
   },
   "outputs": [],
   "source": [
    "# initial fitting\n",
    "pred_line <- lm(A ~ G, data = nhl_data)"
   ]
  },
  {
   "cell_type": "code",
   "execution_count": 4,
   "metadata": {
    "collapsed": false
   },
   "outputs": [
    {
     "name": "stderr",
     "output_type": "stream",
     "text": [
      "Warning message:\n",
      "\"package 'ggplot2' was built under R version 3.3.3\""
     ]
    }
   ],
   "source": [
    "#  a. evaluating the fitting by noting R2 and p values in the fit\n",
    "\n",
    "library(ggplot2)\n",
    "p1 <- ggplot(nhl_data, aes(x = G, y = A))"
   ]
  },
  {
   "cell_type": "code",
   "execution_count": 5,
   "metadata": {
    "collapsed": false
   },
   "outputs": [
    {
     "data": {
      "text/plain": [
       "\n",
       "Call:\n",
       "lm(formula = A ~ G, data = nhl_data)\n",
       "\n",
       "Residuals:\n",
       "    Min      1Q  Median      3Q     Max \n",
       "-356.51 -158.59  -10.29  125.08 1003.42 \n",
       "\n",
       "Coefficients:\n",
       "            Estimate Std. Error t value Pr(>|t|)    \n",
       "(Intercept) 494.5135    74.6410   6.625 1.88e-09 ***\n",
       "G             0.5202     0.1508   3.449 0.000832 ***\n",
       "---\n",
       "Signif. codes:  0 '***' 0.001 '**' 0.01 '*' 0.05 '.' 0.1 ' ' 1\n",
       "\n",
       "Residual standard error: 207 on 98 degrees of freedom\n",
       "Multiple R-squared:  0.1082,\tAdjusted R-squared:  0.09913 \n",
       "F-statistic: 11.89 on 1 and 98 DF,  p-value: 0.0008317\n"
      ]
     },
     "metadata": {},
     "output_type": "display_data"
    }
   ],
   "source": [
    "summary(pred_line)"
   ]
  },
  {
   "cell_type": "code",
   "execution_count": 6,
   "metadata": {
    "collapsed": false
   },
   "outputs": [
    {
     "data": {},
     "metadata": {},
     "output_type": "display_data"
    },
    {
     "data": {
      "image/png": "[encoded data removed]",
      "text/plain": [
       "plot without title"
      ]
     },
     "metadata": {},
     "output_type": "display_data"
    }
   ],
   "source": [
    "p1 + geom_point() + geom_abline(intercept = 494.5135, slope = 0.5202)"
   ]
  },
  {
   "cell_type": "code",
   "execution_count": 7,
   "metadata": {
    "collapsed": false
   },
   "outputs": [
    {
     "data": {},
     "metadata": {},
     "output_type": "display_data"
    },
    {
     "data": {
      "image/png": "[encoded data removed]",
      "text/plain": [
       "plot without title"
      ]
     },
     "metadata": {},
     "output_type": "display_data"
    }
   ],
   "source": [
    "#  forcing the line through Wayne Gretzky\n",
    "\n",
    "pred_line2 <- lm(I(A-1963)~I(G-894),data=nhl_data)\n",
    "\n",
    "p2 <- ggplot(nhl_data, aes(x = G, y = A))\n",
    "\n",
    "c = (1963 - (coef(pred_line2)[2] * 894))\n",
    "\n",
    "p2 + geom_point() + geom_abline(intercept = c, slope = coef(pred_line2)[2])\n"
   ]
  },
  {
   "cell_type": "code",
   "execution_count": 8,
   "metadata": {
    "collapsed": true
   },
   "outputs": [],
   "source": [
    "nhl_data[101,]$G <- 285\n",
    "nhl_data[101,]$A <- 465\n",
    "nhl_data[101,]$Player <- \"Patrick Kane\""
   ]
  },
  {
   "cell_type": "code",
   "execution_count": 9,
   "metadata": {
    "collapsed": false
   },
   "outputs": [
    {
     "data": {},
     "metadata": {},
     "output_type": "display_data"
    },
    {
     "data": {
      "image/png": "[encoded data removed]",
      "text/plain": [
       "plot without title"
      ]
     },
     "metadata": {},
     "output_type": "display_data"
    }
   ],
   "source": [
    "#  forcing the line through Patrick Kane\n",
    "\n",
    "pred_line3 <- lm(I(A-465)~I(G-285),data=nhl_data)\n",
    "\n",
    "p3 <- ggplot(nhl_data, aes(x = G, y = A))\n",
    "\n",
    "c = (465 - (coef(pred_line2)[2] * 285))\n",
    "\n",
    "p3 + geom_point() + geom_abline(intercept = c, slope = coef(pred_line3)[2])\n"
   ]
  },
  {
   "cell_type": "code",
   "execution_count": 10,
   "metadata": {
    "collapsed": false
   },
   "outputs": [],
   "source": [
    "#  forcing the initial line through origin\n",
    "\n",
    "pred_line4 <- lm(A ~ G + 0, data = nhl_data)\n",
    "p4 <- ggplot(nhl_data, aes(x = G, y = A))\n",
    "\n"
   ]
  },
  {
   "cell_type": "code",
   "execution_count": 11,
   "metadata": {
    "collapsed": false
   },
   "outputs": [
    {
     "data": {
      "text/plain": [
       "\n",
       "Call:\n",
       "lm(formula = A ~ G + 0, data = nhl_data)\n",
       "\n",
       "Residuals:\n",
       "    Min      1Q  Median      3Q     Max \n",
       "-447.30 -137.15    3.59  157.86  639.13 \n",
       "\n",
       "Coefficients:\n",
       "  Estimate Std. Error t value Pr(>|t|)    \n",
       "G  1.48083    0.04977   29.76   <2e-16 ***\n",
       "---\n",
       "Signif. codes:  0 '***' 0.001 '**' 0.01 '*' 0.05 '.' 0.1 ' ' 1\n",
       "\n",
       "Residual standard error: 246.7 on 100 degrees of freedom\n",
       "Multiple R-squared:  0.8985,\tAdjusted R-squared:  0.8975 \n",
       "F-statistic: 885.4 on 1 and 100 DF,  p-value: < 2.2e-16\n"
      ]
     },
     "metadata": {},
     "output_type": "display_data"
    }
   ],
   "source": [
    "summary(pred_line4)"
   ]
  },
  {
   "cell_type": "code",
   "execution_count": 12,
   "metadata": {
    "collapsed": false
   },
   "outputs": [
    {
     "data": {},
     "metadata": {},
     "output_type": "display_data"
    },
    {
     "data": {
      "image/png": "[encoded data removed]",
      "text/plain": [
       "plot without title"
      ]
     },
     "metadata": {},
     "output_type": "display_data"
    }
   ],
   "source": [
    "p4 + geom_point() + geom_abline(intercept = 0, slope = 1.48083) + expand_limits(x= 0, y=0)"
   ]
  },
  {
   "cell_type": "code",
   "execution_count": 13,
   "metadata": {
    "collapsed": false
   },
   "outputs": [
    {
     "data": {},
     "metadata": {},
     "output_type": "display_data"
    },
    {
     "data": {
      "image/png": "[encoded data removed]",
      "text/plain": [
       "plot without title"
      ]
     },
     "metadata": {},
     "output_type": "display_data"
    }
   ],
   "source": [
    "#  forcing the line through origin and Patrick Kane\n",
    "\n",
    "pred_line5 <- lm(I(A-465)~I(G-285) + 0,data=nhl_data)\n",
    "\n",
    "p5 <- ggplot(nhl_data, aes(x = G, y = A))\n",
    "\n",
    "c = 0\n",
    "\n",
    "slope_line = 465/285\n",
    "\n",
    "p5 + geom_point() + geom_abline(intercept = c, slope = slope_line) + expand_limits(x= 0, y=0)\n"
   ]
  },
  {
   "cell_type": "code",
   "execution_count": 14,
   "metadata": {
    "collapsed": false
   },
   "outputs": [
    {
     "data": {},
     "metadata": {},
     "output_type": "display_data"
    },
    {
     "data": {
      "image/png": "[encoded data removed]",
      "text/plain": [
       "plot without title"
      ]
     },
     "metadata": {},
     "output_type": "display_data"
    }
   ],
   "source": [
    "#  forcing the line through origin and Wayne Gretzky\n",
    "\n",
    "pred_line6 <- lm(I(A-1963)~I(G-894),data=nhl_data)\n",
    "\n",
    "p6 <- ggplot(nhl_data, aes(x = G, y = A))\n",
    "\n",
    "c = 0\n",
    "\n",
    "slope_line = 1963/894\n",
    "\n",
    "\n",
    "p6 + geom_point() + geom_abline(intercept = c, slope = slope_line) + expand_limits(x=0,y=0)\n"
   ]
  },
  {
   "cell_type": "code",
   "execution_count": 15,
   "metadata": {
    "collapsed": false
   },
   "outputs": [
    {
     "data": {
      "text/plain": [
       "\n",
       "Call:\n",
       "lm(formula = A ~ G, data = nhl_data)\n",
       "\n",
       "Residuals:\n",
       "    Min      1Q  Median      3Q     Max \n",
       "-356.51 -158.59  -10.29  125.08 1003.42 \n",
       "\n",
       "Coefficients:\n",
       "            Estimate Std. Error t value Pr(>|t|)    \n",
       "(Intercept) 494.5135    74.6410   6.625 1.88e-09 ***\n",
       "G             0.5202     0.1508   3.449 0.000832 ***\n",
       "---\n",
       "Signif. codes:  0 '***' 0.001 '**' 0.01 '*' 0.05 '.' 0.1 ' ' 1\n",
       "\n",
       "Residual standard error: 207 on 98 degrees of freedom\n",
       "Multiple R-squared:  0.1082,\tAdjusted R-squared:  0.09913 \n",
       "F-statistic: 11.89 on 1 and 98 DF,  p-value: 0.0008317\n"
      ]
     },
     "metadata": {},
     "output_type": "display_data"
    }
   ],
   "source": [
    "summary(pred_line)"
   ]
  },
  {
   "cell_type": "code",
   "execution_count": 16,
   "metadata": {
    "collapsed": false
   },
   "outputs": [
    {
     "data": {
      "text/plain": [
       "\n",
       "Call:\n",
       "lm(formula = I(A - 1963) ~ I(G - 894), data = nhl_data)\n",
       "\n",
       "Residuals:\n",
       "    Min      1Q  Median      3Q     Max \n",
       "-356.51 -158.59  -10.29  125.08 1003.42 \n",
       "\n",
       "Coefficients:\n",
       "              Estimate Std. Error t value Pr(>|t|)    \n",
       "(Intercept) -1003.4220    66.4463 -15.101  < 2e-16 ***\n",
       "I(G - 894)      0.5202     0.1508   3.449 0.000832 ***\n",
       "---\n",
       "Signif. codes:  0 '***' 0.001 '**' 0.01 '*' 0.05 '.' 0.1 ' ' 1\n",
       "\n",
       "Residual standard error: 207 on 98 degrees of freedom\n",
       "Multiple R-squared:  0.1082,\tAdjusted R-squared:  0.09913 \n",
       "F-statistic: 11.89 on 1 and 98 DF,  p-value: 0.0008317\n"
      ]
     },
     "metadata": {},
     "output_type": "display_data"
    }
   ],
   "source": [
    "summary(pred_line2)"
   ]
  },
  {
   "cell_type": "code",
   "execution_count": 17,
   "metadata": {
    "collapsed": false
   },
   "outputs": [
    {
     "data": {
      "text/plain": [
       "\n",
       "Call:\n",
       "lm(formula = I(A - 465) ~ I(G - 285), data = nhl_data)\n",
       "\n",
       "Residuals:\n",
       "    Min      1Q  Median      3Q     Max \n",
       "-355.98 -172.72   -8.94  126.20  997.84 \n",
       "\n",
       "Coefficients:\n",
       "            Estimate Std. Error t value Pr(>|t|)    \n",
       "(Intercept) 172.7210    34.8505   4.956 2.97e-06 ***\n",
       "I(G - 285)    0.5377     0.1492   3.603 0.000493 ***\n",
       "---\n",
       "Signif. codes:  0 '***' 0.001 '**' 0.01 '*' 0.05 '.' 0.1 ' ' 1\n",
       "\n",
       "Residual standard error: 206.7 on 99 degrees of freedom\n",
       "Multiple R-squared:  0.116,\tAdjusted R-squared:  0.107 \n",
       "F-statistic: 12.98 on 1 and 99 DF,  p-value: 0.0004934\n"
      ]
     },
     "metadata": {},
     "output_type": "display_data"
    }
   ],
   "source": [
    "summary(pred_line3)"
   ]
  },
  {
   "cell_type": "code",
   "execution_count": 18,
   "metadata": {
    "collapsed": false
   },
   "outputs": [
    {
     "data": {
      "text/plain": [
       "\n",
       "Call:\n",
       "lm(formula = A ~ G + 0, data = nhl_data)\n",
       "\n",
       "Residuals:\n",
       "    Min      1Q  Median      3Q     Max \n",
       "-447.30 -137.15    3.59  157.86  639.13 \n",
       "\n",
       "Coefficients:\n",
       "  Estimate Std. Error t value Pr(>|t|)    \n",
       "G  1.48083    0.04977   29.76   <2e-16 ***\n",
       "---\n",
       "Signif. codes:  0 '***' 0.001 '**' 0.01 '*' 0.05 '.' 0.1 ' ' 1\n",
       "\n",
       "Residual standard error: 246.7 on 100 degrees of freedom\n",
       "Multiple R-squared:  0.8985,\tAdjusted R-squared:  0.8975 \n",
       "F-statistic: 885.4 on 1 and 100 DF,  p-value: < 2.2e-16\n"
      ]
     },
     "metadata": {},
     "output_type": "display_data"
    }
   ],
   "source": [
    "summary(pred_line4)"
   ]
  },
  {
   "cell_type": "code",
   "execution_count": 19,
   "metadata": {
    "collapsed": false
   },
   "outputs": [
    {
     "data": {
      "text/plain": [
       "\n",
       "Call:\n",
       "lm(formula = I(A - 465) ~ I(G - 285) + 0, data = nhl_data)\n",
       "\n",
       "Residuals:\n",
       "    Min      1Q  Median      3Q     Max \n",
       "-337.85 -114.55   40.53  165.99  807.05 \n",
       "\n",
       "Coefficients:\n",
       "           Estimate Std. Error t value Pr(>|t|)    \n",
       "I(G - 285)   1.1346     0.0979   11.59   <2e-16 ***\n",
       "---\n",
       "Signif. codes:  0 '***' 0.001 '**' 0.01 '*' 0.05 '.' 0.1 ' ' 1\n",
       "\n",
       "Residual standard error: 229.8 on 100 degrees of freedom\n",
       "Multiple R-squared:  0.5732,\tAdjusted R-squared:  0.5689 \n",
       "F-statistic: 134.3 on 1 and 100 DF,  p-value: < 2.2e-16\n"
      ]
     },
     "metadata": {},
     "output_type": "display_data"
    }
   ],
   "source": [
    "summary(pred_line5)"
   ]
  },
  {
   "cell_type": "code",
   "execution_count": 20,
   "metadata": {
    "collapsed": false
   },
   "outputs": [
    {
     "data": {
      "text/plain": [
       "\n",
       "Call:\n",
       "lm(formula = I(A - 1963) ~ I(G - 894), data = nhl_data)\n",
       "\n",
       "Residuals:\n",
       "    Min      1Q  Median      3Q     Max \n",
       "-355.98 -172.72   -8.94  126.20  997.84 \n",
       "\n",
       "Coefficients:\n",
       "             Estimate Std. Error t value Pr(>|t|)    \n",
       "(Intercept) -997.8422    66.0236 -15.113  < 2e-16 ***\n",
       "I(G - 894)     0.5377     0.1492   3.603 0.000493 ***\n",
       "---\n",
       "Signif. codes:  0 '***' 0.001 '**' 0.01 '*' 0.05 '.' 0.1 ' ' 1\n",
       "\n",
       "Residual standard error: 206.7 on 99 degrees of freedom\n",
       "Multiple R-squared:  0.116,\tAdjusted R-squared:  0.107 \n",
       "F-statistic: 12.98 on 1 and 99 DF,  p-value: 0.0004934\n"
      ]
     },
     "metadata": {},
     "output_type": "display_data"
    }
   ],
   "source": [
    "summary(pred_line6)"
   ]
  },
  {
   "cell_type": "code",
   "execution_count": 21,
   "metadata": {
    "collapsed": true
   },
   "outputs": [],
   "source": [
    "final_result <- data.frame(reference = character(), rSquare = numeric(), p = numeric())\n",
    "final_result <- rbind(final_result, data.frame(reference = \"initial fitting\", rSquare = 0.1082\n",
    "                                  , p = 0.0008317 ))\n",
    "final_result <- rbind(final_result, data.frame(reference = \"wayne gretzky\", rSquare = 0.1082\n",
    "                                  , p = 0.0008317 ))\n",
    "final_result <- rbind(final_result, data.frame(reference = \"patrick kane\", rSquare = 0.116\n",
    "                                  , p = 0.0004934 ))\n",
    "final_result <- rbind(final_result, data.frame(reference = \"initial fitting on origin\", rSquare = 0.8985\n",
    "                                  , p = 2.2e-16 ))\n",
    "final_result <- rbind(final_result, data.frame(reference = \"patrick kane on origin\", rSquare = 0.5732\n",
    "                                  , p = 2.2e-16 ))\n",
    "final_result <- rbind(final_result, data.frame(reference = \"wayne gretzky on origin\", rSquare =  0.116\n",
    "                                  , p = 0.0004934 ))"
   ]
  },
  {
   "cell_type": "code",
   "execution_count": 22,
   "metadata": {
    "collapsed": false
   },
   "outputs": [
    {
     "data": {
      "text/html": [
       "<table>\n",
       "<thead><tr><th scope=col>reference</th><th scope=col>rSquare</th><th scope=col>p</th></tr></thead>\n",
       "<tbody>\n",
       "\t<tr><td>initial fitting          </td><td>0.1082                   </td><td>8.317e-04                </td></tr>\n",
       "\t<tr><td>wayne gretzky            </td><td>0.1082                   </td><td>8.317e-04                </td></tr>\n",
       "\t<tr><td>patrick kane             </td><td>0.1160                   </td><td>4.934e-04                </td></tr>\n",
       "\t<tr><td>initial fitting on origin</td><td>0.8985                   </td><td>2.200e-16                </td></tr>\n",
       "\t<tr><td>patrick kane on origin   </td><td>0.5732                   </td><td>2.200e-16                </td></tr>\n",
       "\t<tr><td>wayne gretzky on origin  </td><td>0.1160                   </td><td>4.934e-04                </td></tr>\n",
       "</tbody>\n",
       "</table>\n"
      ],
      "text/latex": [
       "\\begin{tabular}{r|lll}\n",
       " reference & rSquare & p\\\\\n",
       "\\hline\n",
       "\t initial fitting           & 0.1082                    & 8.317e-04                \\\\\n",
       "\t wayne gretzky             & 0.1082                    & 8.317e-04                \\\\\n",
       "\t patrick kane              & 0.1160                    & 4.934e-04                \\\\\n",
       "\t initial fitting on origin & 0.8985                    & 2.200e-16                \\\\\n",
       "\t patrick kane on origin    & 0.5732                    & 2.200e-16                \\\\\n",
       "\t wayne gretzky on origin   & 0.1160                    & 4.934e-04                \\\\\n",
       "\\end{tabular}\n"
      ],
      "text/markdown": [
       "\n",
       "reference | rSquare | p | \n",
       "|---|---|---|---|---|---|\n",
       "| initial fitting           | 0.1082                    | 8.317e-04                 | \n",
       "| wayne gretzky             | 0.1082                    | 8.317e-04                 | \n",
       "| patrick kane              | 0.1160                    | 4.934e-04                 | \n",
       "| initial fitting on origin | 0.8985                    | 2.200e-16                 | \n",
       "| patrick kane on origin    | 0.5732                    | 2.200e-16                 | \n",
       "| wayne gretzky on origin   | 0.1160                    | 4.934e-04                 | \n",
       "\n",
       "\n"
      ],
      "text/plain": [
       "  reference                 rSquare p        \n",
       "1 initial fitting           0.1082  8.317e-04\n",
       "2 wayne gretzky             0.1082  8.317e-04\n",
       "3 patrick kane              0.1160  4.934e-04\n",
       "4 initial fitting on origin 0.8985  2.200e-16\n",
       "5 patrick kane on origin    0.5732  2.200e-16\n",
       "6 wayne gretzky on origin   0.1160  4.934e-04"
      ]
     },
     "metadata": {},
     "output_type": "display_data"
    }
   ],
   "source": [
    "final_result"
   ]
  },
  {
   "cell_type": "markdown",
   "metadata": {},
   "source": [
    "## Interpretation\n",
    "\n",
    "### Based on the above values, we can say that the rsquare value increases when we add origin to the initial fitting and other given points. Also the p value decreases for these models. With these observations, we can surely say that the latter three models are better models compared to the initial ones. "
   ]
  }
 ],
 "metadata": {
  "anaconda-cloud": {},
  "kernelspec": {
   "display_name": "R",
   "language": "R",
   "name": "ir"
  },
  "language_info": {
   "codemirror_mode": "r",
   "file_extension": ".r",
   "mimetype": "text/x-r-source",
   "name": "R",
   "pygments_lexer": "r",
   "version": "3.3.2"
  }
 },
 "nbformat": 4,
 "nbformat_minor": 1
}
