{
 "cells": [
  {
   "cell_type": "code",
   "execution_count": 1,
   "metadata": {
    "collapsed": true
   },
   "outputs": [],
   "source": [
    "credit_data <- read.csv(\"Rgraphics/lab3Data/german_credit_data1.csv\", header=TRUE, stringsAsFactors=FALSE)"
   ]
  },
  {
   "cell_type": "code",
   "execution_count": 2,
   "metadata": {
    "collapsed": false
   },
   "outputs": [
    {
     "data": {
      "text/html": [
       "<table>\n",
       "<thead><tr><th scope=col>X.</th><th scope=col>Age</th><th scope=col>Sex</th><th scope=col>Job</th><th scope=col>Housing</th><th scope=col>Saving.accounts</th><th scope=col>Checking.account</th><th scope=col>Credit.amount</th><th scope=col>Duration</th><th scope=col>Purpose</th><th scope=col>Credit.Risks</th></tr></thead>\n",
       "<tbody>\n",
       "\t<tr><td>0                  </td><td>67                 </td><td>male               </td><td>2                  </td><td>own                </td><td>NA                 </td><td>little             </td><td>1169               </td><td> 6                 </td><td>radio/TV           </td><td>1                  </td></tr>\n",
       "\t<tr><td>1                  </td><td>22                 </td><td>female             </td><td>2                  </td><td>own                </td><td>little             </td><td>moderate           </td><td>5951               </td><td>48                 </td><td>radio/TV           </td><td>2                  </td></tr>\n",
       "\t<tr><td>2                  </td><td>49                 </td><td>male               </td><td>1                  </td><td>own                </td><td>little             </td><td>NA                 </td><td>2096               </td><td>12                 </td><td>education          </td><td>1                  </td></tr>\n",
       "\t<tr><td>3                  </td><td>45                 </td><td>male               </td><td>2                  </td><td>free               </td><td>little             </td><td>little             </td><td>7882               </td><td>42                 </td><td>furniture/equipment</td><td>1                  </td></tr>\n",
       "\t<tr><td>4                  </td><td>53                 </td><td>male               </td><td>2                  </td><td>free               </td><td>little             </td><td>little             </td><td>4870               </td><td>24                 </td><td>car                </td><td>2                  </td></tr>\n",
       "\t<tr><td>5                  </td><td>35                 </td><td>male               </td><td>1                  </td><td>free               </td><td>NA                 </td><td>NA                 </td><td>9055               </td><td>36                 </td><td>education          </td><td>1                  </td></tr>\n",
       "</tbody>\n",
       "</table>\n"
      ],
      "text/latex": [
       "\\begin{tabular}{r|lllllllllll}\n",
       " X. & Age & Sex & Job & Housing & Saving.accounts & Checking.account & Credit.amount & Duration & Purpose & Credit.Risks\\\\\n",
       "\\hline\n",
       "\t 0                   & 67                  & male                & 2                   & own                 & NA                  & little              & 1169                &  6                  & radio/TV            & 1                  \\\\\n",
       "\t 1                   & 22                  & female              & 2                   & own                 & little              & moderate            & 5951                & 48                  & radio/TV            & 2                  \\\\\n",
       "\t 2                   & 49                  & male                & 1                   & own                 & little              & NA                  & 2096                & 12                  & education           & 1                  \\\\\n",
       "\t 3                   & 45                  & male                & 2                   & free                & little              & little              & 7882                & 42                  & furniture/equipment & 1                  \\\\\n",
       "\t 4                   & 53                  & male                & 2                   & free                & little              & little              & 4870                & 24                  & car                 & 2                  \\\\\n",
       "\t 5                   & 35                  & male                & 1                   & free                & NA                  & NA                  & 9055                & 36                  & education           & 1                  \\\\\n",
       "\\end{tabular}\n"
      ],
      "text/markdown": [
       "\n",
       "X. | Age | Sex | Job | Housing | Saving.accounts | Checking.account | Credit.amount | Duration | Purpose | Credit.Risks | \n",
       "|---|---|---|---|---|---|\n",
       "| 0                   | 67                  | male                | 2                   | own                 | NA                  | little              | 1169                |  6                  | radio/TV            | 1                   | \n",
       "| 1                   | 22                  | female              | 2                   | own                 | little              | moderate            | 5951                | 48                  | radio/TV            | 2                   | \n",
       "| 2                   | 49                  | male                | 1                   | own                 | little              | NA                  | 2096                | 12                  | education           | 1                   | \n",
       "| 3                   | 45                  | male                | 2                   | free                | little              | little              | 7882                | 42                  | furniture/equipment | 1                   | \n",
       "| 4                   | 53                  | male                | 2                   | free                | little              | little              | 4870                | 24                  | car                 | 2                   | \n",
       "| 5                   | 35                  | male                | 1                   | free                | NA                  | NA                  | 9055                | 36                  | education           | 1                   | \n",
       "\n",
       "\n"
      ],
      "text/plain": [
       "  X. Age Sex    Job Housing Saving.accounts Checking.account Credit.amount\n",
       "1 0  67  male   2   own     NA              little           1169         \n",
       "2 1  22  female 2   own     little          moderate         5951         \n",
       "3 2  49  male   1   own     little          NA               2096         \n",
       "4 3  45  male   2   free    little          little           7882         \n",
       "5 4  53  male   2   free    little          little           4870         \n",
       "6 5  35  male   1   free    NA              NA               9055         \n",
       "  Duration Purpose             Credit.Risks\n",
       "1  6       radio/TV            1           \n",
       "2 48       radio/TV            2           \n",
       "3 12       education           1           \n",
       "4 42       furniture/equipment 1           \n",
       "5 24       car                 2           \n",
       "6 36       education           1           "
      ]
     },
     "metadata": {},
     "output_type": "display_data"
    }
   ],
   "source": [
    "head(credit_data)"
   ]
  },
  {
   "cell_type": "code",
   "execution_count": 3,
   "metadata": {
    "collapsed": false
   },
   "outputs": [],
   "source": [
    "credit_data <- credit_data[!is.na(credit_data$Saving.accounts),]\n",
    "credit_data <- credit_data[!is.na(credit_data$Checking.account),]"
   ]
  },
  {
   "cell_type": "code",
   "execution_count": 4,
   "metadata": {
    "collapsed": false
   },
   "outputs": [],
   "source": [
    "# manipulating column values to numericals\n",
    "\n",
    "credit_data$Sex[credit_data$Sex==\"male\"] <- 1\n",
    "credit_data$Sex[credit_data$Sex==\"female\"] <- 0\n",
    "credit_data$Housing[credit_data$Housing==\"own\"] <- 0\n",
    "credit_data$Housing[credit_data$Housing==\"rent\"] <- 1\n",
    "credit_data$Housing[credit_data$Housing==\"free\"] <- 2\n",
    "credit_data$Saving.accounts[credit_data$Saving.accounts==\"little\"] <- 0\n",
    "credit_data$Saving.accounts[credit_data$Saving.accounts==\"moderate\"] <- 1\n",
    "credit_data$Saving.accounts[credit_data$Saving.accounts==\"quite rich\"] <- 2\n",
    "credit_data$Saving.accounts[credit_data$Saving.accounts==\"rich\"] <- 3\n",
    "credit_data$Checking.account[credit_data$Checking.account==\"little\"] <- 0\n",
    "credit_data$Checking.account[credit_data$Checking.account==\"moderate\"] <- 1\n",
    "credit_data$Checking.account[credit_data$Checking.account==\"rich\"] <- 2\n",
    "credit_data$Purpose[credit_data$Purpose==\"radio/TV\"] <- 0\n",
    "credit_data$Purpose[credit_data$Purpose==\"furniture/equipment\"] <- 1\n",
    "credit_data$Purpose[credit_data$Purpose==\"car\"] <- 2\n",
    "credit_data$Purpose[credit_data$Purpose==\"business\"] <- 3\n",
    "credit_data$Purpose[credit_data$Purpose==\"domestic appliances\"] <- 4\n",
    "credit_data$Purpose[credit_data$Purpose==\"repairs\"] <- 5\n",
    "credit_data$Purpose[credit_data$Purpose==\"vacation/others\"] <- 6\n",
    "credit_data$Purpose[credit_data$Purpose==\"education\"] <- 7"
   ]
  },
  {
   "cell_type": "code",
   "execution_count": 5,
   "metadata": {
    "collapsed": false
   },
   "outputs": [],
   "source": [
    "credit_data$Sex <- as.numeric(as.character(credit_data$Sex))\n",
    "credit_data$Housing <- as.numeric(as.character(credit_data$Housing))\n",
    "credit_data$Saving.accounts <- as.numeric(as.character(credit_data$Saving.accounts))\n",
    "credit_data$Checking.account <- as.numeric(as.character(credit_data$Checking.account))\n",
    "credit_data$Purpose <- as.numeric(as.character(credit_data$Purpose))"
   ]
  },
  {
   "cell_type": "code",
   "execution_count": 6,
   "metadata": {
    "collapsed": false
   },
   "outputs": [],
   "source": [
    "# normalizing data\n",
    "\n",
    "credit_data$Sex <- (credit_data$Sex - min(credit_data$Sex))/(max(credit_data$Sex) - min(credit_data$Sex))\n",
    "credit_data$Housing <- (credit_data$Housing - min(credit_data$Housing))/(max(credit_data$Housing) - min(credit_data$Housing))\n",
    "credit_data$Saving.accounts <- (credit_data$Saving.accounts - min(credit_data$Saving.accounts))/(max(credit_data$Saving.accounts) - min(credit_data$Saving.accounts))\n",
    "credit_data$Checking.account <- (credit_data$Checking.account - min(credit_data$Checking.account))/(max(credit_data$Checking.account) - min(credit_data$Checking.account))\n",
    "credit_data$Purpose <- (credit_data$Purpose - min(credit_data$Purpose))/(max(credit_data$Purpose) - min(credit_data$Purpose))"
   ]
  },
  {
   "cell_type": "code",
   "execution_count": 7,
   "metadata": {
    "collapsed": false
   },
   "outputs": [],
   "source": [
    "credit_data$Credit.amount <- (credit_data$Credit.amount - min(credit_data$Credit.amount))/(max(credit_data$Credit.amount) - min(credit_data$Credit.amount))\n",
    "credit_data$Age <- (credit_data$Age - min(credit_data$Age))/(max(credit_data$Age) - min(credit_data$Age))\n",
    "credit_data$Job <- (credit_data$Job - min(credit_data$Job))/(max(credit_data$Job) - min(credit_data$Job))\n",
    "credit_data$Duration <- (credit_data$Duration - min(credit_data$Duration))/(max(credit_data$Duration) - min(credit_data$Duration))"
   ]
  },
  {
   "cell_type": "code",
   "execution_count": 8,
   "metadata": {
    "collapsed": false
   },
   "outputs": [
    {
     "name": "stderr",
     "output_type": "stream",
     "text": [
      "Installing package into 'C:/Users/Akash Yeleswarapu/Documents/R/win-library/3.3'\n",
      "(as 'lib' is unspecified)\n"
     ]
    },
    {
     "name": "stdout",
     "output_type": "stream",
     "text": [
      "package 'class' successfully unpacked and MD5 sums checked\n",
      "\n",
      "The downloaded binary packages are in\n",
      "\tC:\\Users\\Akash Yeleswarapu\\AppData\\Local\\Temp\\RtmpQ9jMI1\\downloaded_packages\n"
     ]
    },
    {
     "name": "stderr",
     "output_type": "stream",
     "text": [
      "Warning message:\n",
      "\"package 'class' was built under R version 3.3.3\""
     ]
    }
   ],
   "source": [
    "# data <- data.framerame(k= numeric(0), train_80 = numeric(0))\n",
    "install.packages(\"class\", repos='http://cran.us.r-project.org') \n",
    "library(class)"
   ]
  },
  {
   "cell_type": "code",
   "execution_count": 9,
   "metadata": {
    "collapsed": false
   },
   "outputs": [],
   "source": [
    "num_points <- nrow(credit_data)\n",
    "# for sample rate of 0.8\n",
    "sampling.rate <- 0.8\n",
    "test_set_points <- num_points * (1-sampling.rate)\n",
    "training <- sample(1:num_points, sampling.rate * num_points,\n",
    "replace=FALSE)\n",
    "train <- subset(credit_data[training, ], select = c(Sex, Housing, Saving.accounts, Checking.account,Job,Duration, Age, Purpose, Credit.amount))\n",
    "testing <- setdiff(1:num_points, training)\n",
    "test <- subset(credit_data[testing, ], select =  c(Sex, Housing, Saving.accounts, Checking.account, Job, Duration, Age, Purpose, Credit.amount))\n",
    "cl <- credit_data$Credit.Risks[training]\n",
    "true.labels <- credit_data$Credit.Risks[testing]"
   ]
  },
  {
   "cell_type": "code",
   "execution_count": null,
   "metadata": {
    "collapsed": true
   },
   "outputs": [],
   "source": []
  },
  {
   "cell_type": "code",
   "execution_count": 10,
   "metadata": {
    "collapsed": false
   },
   "outputs": [],
   "source": [
    "# for sample rate of 0.8\n",
    "sampling.rate <- 0.8\n",
    "test_set_points <- num_points * (1-sampling.rate)\n",
    "training <- sample(1:num_points, sampling.rate * num_points,\n",
    "replace=FALSE)\n",
    "train <- subset(credit_data[training, ], select = c(Sex, Housing, Saving.accounts, Checking.account,Job,Duration, Age, Purpose, Credit.amount))\n",
    "testing <- setdiff(1:num_points, training)\n",
    "test <- subset(credit_data[testing, ], select =  c(Sex, Housing, Saving.accounts, Checking.account, Job, Duration, Age, Purpose, Credit.amount))\n",
    "cl <- credit_data$Credit.Risks[training]\n",
    "true.labels <- credit_data$Credit.Risks[testing]\n",
    "data_frame1 <- data.frame(k = numeric(), train_80 = numeric())\n",
    "for (k in 1:20) {\n",
    "predicted.labels <- knn(train, test, cl, k)\n",
    "# We're using the R function knn()\n",
    "num.incorrect.labels <- sum(predicted.labels != true.labels)\n",
    "misclassification.rate <- num.incorrect.labels / test_set_points\n",
    "data_frame1 <- rbind(data_frame1, data.frame(k = k , train_80 = misclassification.rate))\n",
    "}"
   ]
  },
  {
   "cell_type": "code",
   "execution_count": 11,
   "metadata": {
    "collapsed": false
   },
   "outputs": [],
   "source": [
    "# for sample rate of 0.7\n",
    "sampling.rate <- 0.7\n",
    "test_set_points <- num_points * (1-sampling.rate)\n",
    "training <- sample(1:num_points, sampling.rate * num_points,\n",
    "replace=FALSE)\n",
    "train <- subset(credit_data[training, ], select = c(Sex, Housing, Saving.accounts, Checking.account,Job,Duration, Age, Purpose, Credit.amount))\n",
    "testing <- setdiff(1:num_points, training)\n",
    "test <- subset(credit_data[testing, ], select =  c(Sex, Housing, Saving.accounts, Checking.account, Job, Duration, Age, Purpose, Credit.amount))\n",
    "cl <- credit_data$Credit.Risks[training]\n",
    "true.labels <- credit_data$Credit.Risks[testing]\n",
    "data_frame2 <- data.frame(k = numeric(), train_70 = numeric())\n",
    "for (k in 1:20) {\n",
    "predicted.labels <- knn(train, test, cl, k)\n",
    "# We're using the R function knn()\n",
    "num.incorrect.labels <- sum(predicted.labels != true.labels)\n",
    "misclassification.rate <- num.incorrect.labels / test_set_points\n",
    "data_frame2 <- rbind(data_frame2, data.frame(k = k , train_70 = misclassification.rate))\n",
    "}"
   ]
  },
  {
   "cell_type": "code",
   "execution_count": 12,
   "metadata": {
    "collapsed": false
   },
   "outputs": [],
   "source": [
    "# for sample rate of 0.75\n",
    "sampling.rate <- 0.75\n",
    "test_set_points <- num_points * (1-sampling.rate)\n",
    "training <- sample(1:num_points, sampling.rate * num_points,\n",
    "replace=FALSE)\n",
    "train <- subset(credit_data[training, ], select = c(Sex, Housing, Saving.accounts, Checking.account,Job,Duration, Age, Purpose, Credit.amount))\n",
    "testing <- setdiff(1:num_points, training)\n",
    "test <- subset(credit_data[testing, ], select =  c(Sex, Housing, Saving.accounts, Checking.account, Job, Duration, Age, Purpose, Credit.amount))\n",
    "cl <- credit_data$Credit.Risks[training]\n",
    "true.labels <- credit_data$Credit.Risks[testing]\n",
    "data_frame3 <- data.frame(k = numeric(), train_75 = numeric())\n",
    "for (k in 1:20) {\n",
    "predicted.labels <- knn(train, test, cl, k)\n",
    "# We're using the R function knn()\n",
    "num.incorrect.labels <- sum(predicted.labels != true.labels)\n",
    "misclassification.rate <- num.incorrect.labels / test_set_points\n",
    "data_frame3 <- rbind(data_frame3, data.frame(k = k , train_75 = misclassification.rate))\n",
    "}"
   ]
  },
  {
   "cell_type": "code",
   "execution_count": 13,
   "metadata": {
    "collapsed": false
   },
   "outputs": [],
   "source": [
    "data_frame2 <- merge(x = data_frame1, y = data_frame1, by = \"k\", all = TRUE)\n",
    "data_frame3 <- merge(x = data_frame2, y = data_frame3, by = \"k\", all = TRUE)"
   ]
  },
  {
   "cell_type": "code",
   "execution_count": 14,
   "metadata": {
    "collapsed": true
   },
   "outputs": [],
   "source": [
    "colnames(data_frame3) <- c(\"k\", \"train_80\", \"train_70\", \"train_75\")"
   ]
  },
  {
   "cell_type": "code",
   "execution_count": 15,
   "metadata": {
    "collapsed": false
   },
   "outputs": [
    {
     "data": {
      "text/html": [
       "<table>\n",
       "<thead><tr><th scope=col>k</th><th scope=col>train_80</th><th scope=col>train_70</th><th scope=col>train_75</th></tr></thead>\n",
       "<tbody>\n",
       "\t<tr><td> 1       </td><td>0.3927203</td><td>0.3927203</td><td>0.4904215</td></tr>\n",
       "\t<tr><td> 2       </td><td>0.4789272</td><td>0.4789272</td><td>0.4674330</td></tr>\n",
       "\t<tr><td> 3       </td><td>0.3927203</td><td>0.3927203</td><td>0.4750958</td></tr>\n",
       "\t<tr><td> 4       </td><td>0.4214559</td><td>0.4214559</td><td>0.4291188</td></tr>\n",
       "\t<tr><td> 5       </td><td>0.4501916</td><td>0.4501916</td><td>0.4521073</td></tr>\n",
       "\t<tr><td> 6       </td><td>0.3831418</td><td>0.3831418</td><td>0.4521073</td></tr>\n",
       "\t<tr><td> 7       </td><td>0.4310345</td><td>0.4310345</td><td>0.4214559</td></tr>\n",
       "\t<tr><td> 8       </td><td>0.4022989</td><td>0.4022989</td><td>0.4444444</td></tr>\n",
       "\t<tr><td> 9       </td><td>0.4597701</td><td>0.4597701</td><td>0.4597701</td></tr>\n",
       "\t<tr><td>10       </td><td>0.4406130</td><td>0.4406130</td><td>0.4291188</td></tr>\n",
       "\t<tr><td>11       </td><td>0.4693487</td><td>0.4693487</td><td>0.4214559</td></tr>\n",
       "\t<tr><td>12       </td><td>0.4693487</td><td>0.4693487</td><td>0.4061303</td></tr>\n",
       "\t<tr><td>13       </td><td>0.4406130</td><td>0.4406130</td><td>0.3831418</td></tr>\n",
       "\t<tr><td>14       </td><td>0.4310345</td><td>0.4310345</td><td>0.4137931</td></tr>\n",
       "\t<tr><td>15       </td><td>0.4214559</td><td>0.4214559</td><td>0.4367816</td></tr>\n",
       "\t<tr><td>16       </td><td>0.4789272</td><td>0.4789272</td><td>0.4214559</td></tr>\n",
       "\t<tr><td>17       </td><td>0.4693487</td><td>0.4693487</td><td>0.4674330</td></tr>\n",
       "\t<tr><td>18       </td><td>0.4885057</td><td>0.4885057</td><td>0.4214559</td></tr>\n",
       "\t<tr><td>19       </td><td>0.4597701</td><td>0.4597701</td><td>0.4061303</td></tr>\n",
       "\t<tr><td>20       </td><td>0.4118774</td><td>0.4118774</td><td>0.4061303</td></tr>\n",
       "</tbody>\n",
       "</table>\n"
      ],
      "text/latex": [
       "\\begin{tabular}{r|llll}\n",
       " k & train\\_80 & train\\_70 & train\\_75\\\\\n",
       "\\hline\n",
       "\t  1        & 0.3927203 & 0.3927203 & 0.4904215\\\\\n",
       "\t  2        & 0.4789272 & 0.4789272 & 0.4674330\\\\\n",
       "\t  3        & 0.3927203 & 0.3927203 & 0.4750958\\\\\n",
       "\t  4        & 0.4214559 & 0.4214559 & 0.4291188\\\\\n",
       "\t  5        & 0.4501916 & 0.4501916 & 0.4521073\\\\\n",
       "\t  6        & 0.3831418 & 0.3831418 & 0.4521073\\\\\n",
       "\t  7        & 0.4310345 & 0.4310345 & 0.4214559\\\\\n",
       "\t  8        & 0.4022989 & 0.4022989 & 0.4444444\\\\\n",
       "\t  9        & 0.4597701 & 0.4597701 & 0.4597701\\\\\n",
       "\t 10        & 0.4406130 & 0.4406130 & 0.4291188\\\\\n",
       "\t 11        & 0.4693487 & 0.4693487 & 0.4214559\\\\\n",
       "\t 12        & 0.4693487 & 0.4693487 & 0.4061303\\\\\n",
       "\t 13        & 0.4406130 & 0.4406130 & 0.3831418\\\\\n",
       "\t 14        & 0.4310345 & 0.4310345 & 0.4137931\\\\\n",
       "\t 15        & 0.4214559 & 0.4214559 & 0.4367816\\\\\n",
       "\t 16        & 0.4789272 & 0.4789272 & 0.4214559\\\\\n",
       "\t 17        & 0.4693487 & 0.4693487 & 0.4674330\\\\\n",
       "\t 18        & 0.4885057 & 0.4885057 & 0.4214559\\\\\n",
       "\t 19        & 0.4597701 & 0.4597701 & 0.4061303\\\\\n",
       "\t 20        & 0.4118774 & 0.4118774 & 0.4061303\\\\\n",
       "\\end{tabular}\n"
      ],
      "text/markdown": [
       "\n",
       "k | train_80 | train_70 | train_75 | \n",
       "|---|---|---|---|---|---|---|---|---|---|---|---|---|---|---|---|---|---|---|---|\n",
       "|  1        | 0.3927203 | 0.3927203 | 0.4904215 | \n",
       "|  2        | 0.4789272 | 0.4789272 | 0.4674330 | \n",
       "|  3        | 0.3927203 | 0.3927203 | 0.4750958 | \n",
       "|  4        | 0.4214559 | 0.4214559 | 0.4291188 | \n",
       "|  5        | 0.4501916 | 0.4501916 | 0.4521073 | \n",
       "|  6        | 0.3831418 | 0.3831418 | 0.4521073 | \n",
       "|  7        | 0.4310345 | 0.4310345 | 0.4214559 | \n",
       "|  8        | 0.4022989 | 0.4022989 | 0.4444444 | \n",
       "|  9        | 0.4597701 | 0.4597701 | 0.4597701 | \n",
       "| 10        | 0.4406130 | 0.4406130 | 0.4291188 | \n",
       "| 11        | 0.4693487 | 0.4693487 | 0.4214559 | \n",
       "| 12        | 0.4693487 | 0.4693487 | 0.4061303 | \n",
       "| 13        | 0.4406130 | 0.4406130 | 0.3831418 | \n",
       "| 14        | 0.4310345 | 0.4310345 | 0.4137931 | \n",
       "| 15        | 0.4214559 | 0.4214559 | 0.4367816 | \n",
       "| 16        | 0.4789272 | 0.4789272 | 0.4214559 | \n",
       "| 17        | 0.4693487 | 0.4693487 | 0.4674330 | \n",
       "| 18        | 0.4885057 | 0.4885057 | 0.4214559 | \n",
       "| 19        | 0.4597701 | 0.4597701 | 0.4061303 | \n",
       "| 20        | 0.4118774 | 0.4118774 | 0.4061303 | \n",
       "\n",
       "\n"
      ],
      "text/plain": [
       "   k  train_80  train_70  train_75 \n",
       "1   1 0.3927203 0.3927203 0.4904215\n",
       "2   2 0.4789272 0.4789272 0.4674330\n",
       "3   3 0.3927203 0.3927203 0.4750958\n",
       "4   4 0.4214559 0.4214559 0.4291188\n",
       "5   5 0.4501916 0.4501916 0.4521073\n",
       "6   6 0.3831418 0.3831418 0.4521073\n",
       "7   7 0.4310345 0.4310345 0.4214559\n",
       "8   8 0.4022989 0.4022989 0.4444444\n",
       "9   9 0.4597701 0.4597701 0.4597701\n",
       "10 10 0.4406130 0.4406130 0.4291188\n",
       "11 11 0.4693487 0.4693487 0.4214559\n",
       "12 12 0.4693487 0.4693487 0.4061303\n",
       "13 13 0.4406130 0.4406130 0.3831418\n",
       "14 14 0.4310345 0.4310345 0.4137931\n",
       "15 15 0.4214559 0.4214559 0.4367816\n",
       "16 16 0.4789272 0.4789272 0.4214559\n",
       "17 17 0.4693487 0.4693487 0.4674330\n",
       "18 18 0.4885057 0.4885057 0.4214559\n",
       "19 19 0.4597701 0.4597701 0.4061303\n",
       "20 20 0.4118774 0.4118774 0.4061303"
      ]
     },
     "metadata": {},
     "output_type": "display_data"
    }
   ],
   "source": [
    "data_frame3"
   ]
  }
 ],
 "metadata": {
  "anaconda-cloud": {},
  "kernelspec": {
   "display_name": "R",
   "language": "R",
   "name": "ir"
  },
  "language_info": {
   "codemirror_mode": "r",
   "file_extension": ".r",
   "mimetype": "text/x-r-source",
   "name": "R",
   "pygments_lexer": "r",
   "version": "3.3.2"
  }
 },
 "nbformat": 4,
 "nbformat_minor": 1
}
